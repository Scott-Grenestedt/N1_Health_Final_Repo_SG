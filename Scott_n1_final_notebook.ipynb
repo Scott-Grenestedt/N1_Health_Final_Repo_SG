{
 "cells": [
  {
   "cell_type": "markdown",
   "id": "f22b19d9-6e63-44bc-9123-a1d0ce3a3180",
   "metadata": {},
   "source": [
    "# **N1 Health Data Project**\n",
    "\n",
    "### **Author:** Scott Grenestedt  \n",
    "### **Date:** November 22, 2024  \n",
    "\n",
    "---\n",
    "\n",
    "### **Project Overview**  \n",
    "This project analyzes publicly available datasets to provide actionable insights on food access challenges for a national Medicare Advantage plan. The analysis addresses key questions related to program deployment, population engagement, and projected impact.\n"
   ]
  },
  {
   "cell_type": "markdown",
   "id": "639909b2-c1f5-4cde-8d11-1119c2e48105",
   "metadata": {
    "tags": []
   },
   "source": [
    "#### **Terminology**\n",
    "What is Medicare, and more specifically, a \"National Medicare Advantage plan\"?\n",
    "\n",
    "    Medicare is a federal health insurance program primarily for people aged 65 and older, although it also covers certain younger individuals with disabilities and those with end-stage renal (kidney) disease.\n",
    "\n",
    "**Premiums**: \n",
    "\n",
    "<ul>\n",
    "    <li>The amount you pay <b>monthly </b> to have health insurance coverage. It's like a subscription fee for access to Medicare or other health plans. </li>\n",
    "    <li>For Medicare Part B, premiums are income-adjusted, meaning higher-income retirees or individuals still working might pay more (known as IRMAA, the income-related monthly adjusted amount)</li>\n",
    "\n",
    "</ul>\n",
    "\n",
    "**Deductibles**: \n",
    "\n",
    "<ul>\n",
    "    <li>The amount you pay <b>out-of-pocket</b> for covered services <b>before</b> your insurance begins to cover costs. For example, in Medicare Part B, the 2024 deductible is $240. After this is paid, you pay only coinsurance for most services\n",
    "\n",
    "</ul>\n",
    "\n",
    "**Coinsurance**: \n",
    "\n",
    "<ul>\n",
    "    <li>The percentage of costs you pay <b>after meeting the deductible</b>. In Medicare Part B, you typically pay 20% of the cost of outpatient services, while Medicare pays 80%.  </li>\n",
    "\n",
    "</ul>\n",
    "<br> \n",
    "\n",
    "#### **Medicare has 4 segments**\n",
    "<br>\n",
    "\n",
    "**Part A: Hospital Insurance** \n",
    "\n",
    "<ul>\n",
    "    <li>Covers inpatient hospital stays, care in skilled nursing facilities, hospice care, and some home health care </li>\n",
    "    <li>Most people <b>do not</b> pay a premium for Part A if they or their spouse paid Medicare taxes while working</li>\n",
    "\n",
    "</ul>\n",
    "    \n",
    "    \n",
    "**Part B: Medical Insurance** \n",
    "\n",
    "<ul>\n",
    "    <li>Covers outpatient care, doctor visits, preventive services, and durable medical equipment </li>\n",
    "    <li>Requires a monthly premium, which is income-based</li>\n",
    "\n",
    "</ul>\n",
    "\n",
    "**Part C: Medicare Advantage** \n",
    "\n",
    "<ul>\n",
    "    <li>An alternative to Original Medicare (Parts A and B) </li>\n",
    "    <li>Offered by private insurance companies approved by Medicare</li>\n",
    "    <li>Combines Parts A and B, and often includes additional benefits like dental, vision, hearing, and prescription drug coverage</li>\n",
    "    <li>May have lower out-of-pocket costs but can limit provier choices through network-based plans (like HMOs and PPOs)</li>\n",
    "\n",
    "</ul>\n",
    "\n",
    "**Part D: Prescription Drug Coverage** \n",
    "\n",
    "   \n",
    "<ul>\n",
    "    <li>Covers prescription medications </li>\n",
    "    <li>Offered by private insurers as a standalone plan or included in Medicare Advantage plans</li>\n",
    "    <li>Requires a monthly premium, which varies by plan </li>\n",
    "\n",
    "</ul>"
   ]
  },
  {
   "cell_type": "markdown",
   "id": "5e5bc4b6-72e8-405e-8b15-c8200856f647",
   "metadata": {},
   "source": [
    "### **Deeper look at Medicare Advantage**\n",
    "\n",
    "Medicare Advantage (Part C) is a comprehensive alternative to Original Medicare. \n",
    "\n",
    "<ul>\n",
    "    \n",
    "<li> <b>Private Insurance</b>: These plans are offered by private insurers like UnitedHealthcare, Aetna, or Humana but are regulated and subsidized by the federal government </li>\n",
    "<li> <b>Government Subsidies</b>: The government pays these insurers a fixed amount per enrollee to provide the coverage, effectively subsidizing the costs for members </li>\n",
    "<li> <b>Member Costs</b>: Members may still pay premiums, copayments, and deductibles, but plans often cap annual out-of-pocket costs (unlike Original Medicare).</li>\n",
    "\n",
    "\n",
    "\n",
    "</ul>\n",
    "\n",
    "\n",
    "   - Medicare Advantage Plans are *generally* targeted towards lower-income populations, so perhaps I can focus my analysis on this demographic. It's a reasonable suspicion that lower-income households, particularly those without vehicles, will struggle with access to both food and healthcare seeing as Medicare Advantage plans limit your access to in-network providers with HMO plans. \n",
    "    \n",
    "<li> <b> HMO (Health Maintenance Organization):</b> Requires members to use in-network providers and obtain referrals for specialists, offering lower costs but less flexibility. </li>\n",
    "<li> <b> PPO (Preferred Provider Organization):</b> Offers more flexibility with access to both in-network and out-of-network providers, typically at a higher cost. </li>"
   ]
  },
  {
   "cell_type": "markdown",
   "id": "897cfbf1-c5cb-45df-afea-563596afd2ee",
   "metadata": {},
   "source": [
    "# **Analysis and Code starts Here** "
   ]
  },
  {
   "cell_type": "code",
   "execution_count": 250,
   "id": "b0f5637e-b0dc-4c15-b6b2-173f3bc95250",
   "metadata": {},
   "outputs": [],
   "source": [
    "# Importing Libraries\n",
    "\n",
    "#ETL \n",
    "import sqlite3\n",
    "import pandas as pd\n",
    "import numpy as np\n",
    "\n",
    "#Plotting \n",
    "import matplotlib.pyplot as plt\n",
    "import plotly.express as px\n",
    "import seaborn as sns\n"
   ]
  },
  {
   "cell_type": "code",
   "execution_count": 251,
   "id": "0ade6ea5-acdc-498d-9d33-8d2668d1ab36",
   "metadata": {},
   "outputs": [],
   "source": [
    "#Connecting to my SQLite database \n",
    "conn = sqlite3.connect(\"C:/Users/Scott/Downloads/challenge.db/challenge.db\")\n",
    "\n",
    "#Creating a cursor object\n",
    "cursor = conn.cursor()\n"
   ]
  },
  {
   "cell_type": "markdown",
   "id": "a1e1cc9a-fbda-4dc9-a0b5-c258b2bc83ca",
   "metadata": {},
   "source": [
    "### **Exploratory Data Analysis:**\n",
    "    Objective: Understand the volume of data, columns included, how tables might be joined via foreign keys, identify primary keys, and clean up duplicate or Null data"
   ]
  },
  {
   "cell_type": "code",
   "execution_count": 252,
   "id": "27a9a87d-f07c-4a2e-9d11-93c637e16194",
   "metadata": {},
   "outputs": [
    {
     "name": "stdout",
     "output_type": "stream",
     "text": [
      "[('five_hundred_cities',), ('access',), ('variable_list',)]\n"
     ]
    }
   ],
   "source": [
    "#List all the tables in the database:\n",
    "\n",
    "query= \"\"\"\n",
    "\n",
    "SELECT name\n",
    "FROM sqlite_master\n",
    "WHERE type ='table'\n",
    "; \n",
    "\"\"\"\n",
    "\n",
    "cursor.execute(query)\n",
    "\n",
    "#Fetch the results from the query\n",
    "tables = cursor.fetchall()\n",
    "\n",
    "\n",
    "#Display the tables\n",
    "\n",
    "print(tables)\n"
   ]
  },
  {
   "cell_type": "markdown",
   "id": "45cb0bb2-2cf7-486d-b040-cd0a8dca2aa2",
   "metadata": {},
   "source": [
    "#### We see that there are three tables: Let's explore the contents of each "
   ]
  },
  {
   "cell_type": "code",
   "execution_count": 253,
   "id": "42681d02-d458-4298-b534-35507e4a6470",
   "metadata": {},
   "outputs": [
    {
     "name": "stdout",
     "output_type": "stream",
     "text": [
      "==============================\n",
      "Table: five_hundred_cities\n",
      "==============================\n",
      "Number of rows: 27210\n",
      "Number of columns: 64\n",
      "\n",
      "Summary:\n",
      "   index StateAbbr   PlaceName  PlaceFIPS   TractFIPS        Place_TractID  \\\n",
      "0      0        AL  Birmingham     107000  1073000100  0107000-01073000100   \n",
      "1      1        AL  Birmingham     107000  1073000300  0107000-01073000300   \n",
      "2      2        AL  Birmingham     107000  1073000400  0107000-01073000400   \n",
      "3      3        AL  Birmingham     107000  1073000500  0107000-01073000500   \n",
      "4      4        AL  Birmingham     107000  1073000700  0107000-01073000700   \n",
      "\n",
      "   Population2010  ACCESS2_CrudePrev ACCESS2_Crude95CI  ARTHRITIS_CrudePrev  \\\n",
      "0            3042               24.4      (21.2, 27.8)                 31.2   \n",
      "1            2735               30.4      (27.1, 33.7)                 30.5   \n",
      "2            3338               24.7      (21.1, 28.5)                 31.5   \n",
      "3            2864               25.2      (21.6, 29.0)                 35.0   \n",
      "4            2577               29.0      (24.5, 33.8)                 36.3   \n",
      "\n",
      "   ... PAPTEST_Crude95CI  PHLTH_CrudePrev PHLTH_Crude95CI  SLEEP_CrudePrev  \\\n",
      "0  ...      (83.4, 86.6)             20.5    (18.9, 22.2)             45.5   \n",
      "1  ...      (81.9, 85.6)             22.2    (20.4, 24.0)             44.5   \n",
      "2  ...      (82.3, 86.8)             19.4    (17.5, 21.4)             45.7   \n",
      "3  ...      (82.1, 86.5)             21.7    (19.7, 23.9)             46.1   \n",
      "4  ...      (82.2, 87.1)             25.5    (23.1, 28.0)             48.3   \n",
      "\n",
      "  SLEEP_Crude95CI  STROKE_CrudePrev STROKE_Crude95CI  TEETHLOST_CrudePrev  \\\n",
      "0    (44.3, 46.5)               5.5     ( 5.0,  5.9)                 28.9   \n",
      "1    (43.2, 45.7)               6.1     ( 5.5,  6.8)                 32.9   \n",
      "2    (44.2, 47.0)               5.6     ( 5.0,  6.2)                 28.6   \n",
      "3    (44.5, 47.4)               7.3     ( 6.5,  8.2)                 34.0   \n",
      "4    (46.6, 49.7)               9.0     ( 8.1, 10.0)                 43.2   \n",
      "\n",
      "  TEETHLOST_Crude95CI                       Geolocation  \n",
      "0        (23.7, 35.1)  (33.57943283260, -86.7228323926)  \n",
      "1        (25.5, 40.2)  (33.54282086860, -86.7524339780)  \n",
      "2        (22.0, 35.1)  (33.56324496330, -86.7640474064)  \n",
      "3        (24.4, 42.9)  (33.54424045940, -86.7749130719)  \n",
      "4        (33.2, 53.2)  (33.55254061390, -86.8016893706)  \n",
      "\n",
      "[5 rows x 64 columns]\n",
      "\n",
      "Dataframe Info:\n",
      "<class 'pandas.core.frame.DataFrame'>\n",
      "RangeIndex: 27210 entries, 0 to 27209\n",
      "Data columns (total 64 columns):\n",
      " #   Column                  Non-Null Count  Dtype  \n",
      "---  ------                  --------------  -----  \n",
      " 0   index                   27210 non-null  int64  \n",
      " 1   StateAbbr               27210 non-null  object \n",
      " 2   PlaceName               27210 non-null  object \n",
      " 3   PlaceFIPS               27210 non-null  int64  \n",
      " 4   TractFIPS               27210 non-null  int64  \n",
      " 5   Place_TractID           27210 non-null  object \n",
      " 6   Population2010          27210 non-null  int64  \n",
      " 7   ACCESS2_CrudePrev       27209 non-null  float64\n",
      " 8   ACCESS2_Crude95CI       27209 non-null  object \n",
      " 9   ARTHRITIS_CrudePrev     27210 non-null  float64\n",
      " 10  ARTHRITIS_Crude95CI     27210 non-null  object \n",
      " 11  BINGE_CrudePrev         27210 non-null  float64\n",
      " 12  BINGE_Crude95CI         27210 non-null  object \n",
      " 13  BPHIGH_CrudePrev        27210 non-null  float64\n",
      " 14  BPHIGH_Crude95CI        27210 non-null  object \n",
      " 15  BPMED_CrudePrev         27210 non-null  float64\n",
      " 16  BPMED_Crude95CI         27210 non-null  object \n",
      " 17  CANCER_CrudePrev        27210 non-null  float64\n",
      " 18  CANCER_Crude95CI        27210 non-null  object \n",
      " 19  CASTHMA_CrudePrev       27210 non-null  float64\n",
      " 20  CASTHMA_Crude95CI       27210 non-null  object \n",
      " 21  CHD_CrudePrev           27210 non-null  float64\n",
      " 22  CHD_Crude95CI           27210 non-null  object \n",
      " 23  CHECKUP_CrudePrev       27210 non-null  float64\n",
      " 24  CHECKUP_Crude95CI       27210 non-null  object \n",
      " 25  CHOLSCREEN_CrudePrev    27210 non-null  float64\n",
      " 26  CHOLSCREEN_Crude95CI    27210 non-null  object \n",
      " 27  COLON_SCREEN_CrudePrev  27191 non-null  float64\n",
      " 28  COLON_SCREEN_Crude95CI  27191 non-null  object \n",
      " 29  COPD_CrudePrev          27210 non-null  float64\n",
      " 30  COPD_Crude95CI          27210 non-null  object \n",
      " 31  COREM_CrudePrev         27107 non-null  float64\n",
      " 32  COREM_Crude95CI         27107 non-null  object \n",
      " 33  COREW_CrudePrev         27101 non-null  float64\n",
      " 34  COREW_Crude95CI         27101 non-null  object \n",
      " 35  CSMOKING_CrudePrev      27210 non-null  float64\n",
      " 36  CSMOKING_Crude95CI      27210 non-null  object \n",
      " 37  DENTAL_CrudePrev        27210 non-null  float64\n",
      " 38  DENTAL_Crude95CI        27210 non-null  object \n",
      " 39  DIABETES_CrudePrev      27210 non-null  float64\n",
      " 40  DIABETES_Crude95CI      27210 non-null  object \n",
      " 41  HIGHCHOL_CrudePrev      27210 non-null  float64\n",
      " 42  HIGHCHOL_Crude95CI      27210 non-null  object \n",
      " 43  KIDNEY_CrudePrev        27210 non-null  float64\n",
      " 44  KIDNEY_Crude95CI        27210 non-null  object \n",
      " 45  LPA_CrudePrev           27210 non-null  float64\n",
      " 46  LPA_Crude95CI           27210 non-null  object \n",
      " 47  MAMMOUSE_CrudePrev      27173 non-null  float64\n",
      " 48  MAMMOUSE_Crude95CI      27173 non-null  object \n",
      " 49  MHLTH_CrudePrev         27210 non-null  float64\n",
      " 50  MHLTH_Crude95CI         27210 non-null  object \n",
      " 51  OBESITY_CrudePrev       27210 non-null  float64\n",
      " 52  OBESITY_Crude95CI       27210 non-null  object \n",
      " 53  PAPTEST_CrudePrev       25008 non-null  float64\n",
      " 54  PAPTEST_Crude95CI       25008 non-null  object \n",
      " 55  PHLTH_CrudePrev         27210 non-null  float64\n",
      " 56  PHLTH_Crude95CI         27210 non-null  object \n",
      " 57  SLEEP_CrudePrev         27210 non-null  float64\n",
      " 58  SLEEP_Crude95CI         27210 non-null  object \n",
      " 59  STROKE_CrudePrev        27210 non-null  float64\n",
      " 60  STROKE_Crude95CI        27210 non-null  object \n",
      " 61  TEETHLOST_CrudePrev     27150 non-null  float64\n",
      " 62  TEETHLOST_Crude95CI     27150 non-null  object \n",
      " 63  Geolocation             27210 non-null  object \n",
      "dtypes: float64(28), int64(4), object(32)\n",
      "memory usage: 13.3+ MB\n",
      "None\n",
      "==============================\n",
      "\n",
      "\n",
      "==============================\n",
      "Table: access\n",
      "==============================\n",
      "Number of rows: 3143\n",
      "Number of columns: 45\n",
      "\n",
      "Summary:\n",
      "   index  FIPS State   County  LACCESS_POP10  LACCESS_POP15  \\\n",
      "0      0  1001    AL  Autauga   18428.439685   17496.693038   \n",
      "1      1  1003    AL  Baldwin   35210.814078   30561.264430   \n",
      "2      2  1005    AL  Barbour    5722.305602    6069.523628   \n",
      "3      3  1007    AL     Bibb    1044.867327     969.378841   \n",
      "4      4  1009    AL   Blount    1548.175559    3724.428242   \n",
      "\n",
      "   PCH_LACCESS_POP_10_15  PCT_LACCESS_POP10  PCT_LACCESS_POP15  \\\n",
      "0              -5.056026          33.769657          32.062255   \n",
      "1             -13.204891          19.318473          16.767489   \n",
      "2               6.067799          20.840972          22.105560   \n",
      "3              -7.224696           4.559753           4.230324   \n",
      "4             140.568857           2.700840           6.497380   \n",
      "\n",
      "   LACCESS_LOWI10  ...  LACCESS_HISP15  PCT_LACCESS_HISP15  LACCESS_NHASIAN15  \\\n",
      "0     5344.427472  ...      471.136164            0.863345          86.767975   \n",
      "1     9952.144027  ...     1377.874834            0.755973         212.946378   \n",
      "2     3135.676086  ...      509.377525            1.855183          17.096410   \n",
      "3      491.449066  ...        8.596762            0.037516           1.994318   \n",
      "4      609.027708  ...      497.489891            0.867886           8.428994   \n",
      "\n",
      "   PCT_LACCESS_NHASIAN15  LACCESS_NHNA15  PCT_LACCESS_NHNA15  LACCESS_NHPI15  \\\n",
      "0               0.159000       61.169869            0.112092        8.817961   \n",
      "1               0.116833      181.649648            0.099662       14.819634   \n",
      "2               0.062266       39.960527            0.145539        8.082376   \n",
      "3               0.008703        2.513097            0.010967        0.000000   \n",
      "4               0.014705       28.938242            0.050484        1.062851   \n",
      "\n",
      "   PCT_LACCESS_NHPI15  LACCESS_MULTIR15  PCT_LACCESS_MULTIR15  \n",
      "0            0.016159        482.848633              0.884808  \n",
      "1            0.008131       1127.696098              0.618712  \n",
      "2            0.029436        462.382655              1.684025  \n",
      "3            0.000000          5.259244              0.022951  \n",
      "4            0.001854        202.914187              0.353990  \n",
      "\n",
      "[5 rows x 45 columns]\n",
      "\n",
      "Dataframe Info:\n",
      "<class 'pandas.core.frame.DataFrame'>\n",
      "RangeIndex: 3143 entries, 0 to 3142\n",
      "Data columns (total 45 columns):\n",
      " #   Column                     Non-Null Count  Dtype  \n",
      "---  ------                     --------------  -----  \n",
      " 0   index                      3143 non-null   int64  \n",
      " 1   FIPS                       3143 non-null   int64  \n",
      " 2   State                      3143 non-null   object \n",
      " 3   County                     3143 non-null   object \n",
      " 4   LACCESS_POP10              3143 non-null   float64\n",
      " 5   LACCESS_POP15              3124 non-null   float64\n",
      " 6   PCH_LACCESS_POP_10_15      3117 non-null   float64\n",
      " 7   PCT_LACCESS_POP10          3143 non-null   float64\n",
      " 8   PCT_LACCESS_POP15          3124 non-null   float64\n",
      " 9   LACCESS_LOWI10             3143 non-null   float64\n",
      " 10  LACCESS_LOWI15             3123 non-null   float64\n",
      " 11  PCH_LACCESS_LOWI_10_15     3115 non-null   float64\n",
      " 12  PCT_LACCESS_LOWI10         3143 non-null   float64\n",
      " 13  PCT_LACCESS_LOWI15         3123 non-null   float64\n",
      " 14  LACCESS_HHNV10             3143 non-null   float64\n",
      " 15  LACCESS_HHNV15             3140 non-null   float64\n",
      " 16  PCH_LACCESS_HHNV_10_15     3129 non-null   float64\n",
      " 17  PCT_LACCESS_HHNV10         3143 non-null   float64\n",
      " 18  PCT_LACCESS_HHNV15         3140 non-null   float64\n",
      " 19  LACCESS_SNAP15             3123 non-null   float64\n",
      " 20  PCT_LACCESS_SNAP15         3123 non-null   float64\n",
      " 21  LACCESS_CHILD10            3143 non-null   float64\n",
      " 22  LACCESS_CHILD15            3124 non-null   float64\n",
      " 23  LACCESS_CHILD_10_15        3115 non-null   float64\n",
      " 24  PCT_LACCESS_CHILD10        3143 non-null   float64\n",
      " 25  PCT_LACCESS_CHILD15        3124 non-null   float64\n",
      " 26  LACCESS_SENIORS10          3143 non-null   float64\n",
      " 27  LACCESS_SENIORS15          3124 non-null   float64\n",
      " 28  PCH_LACCESS_SENIORS_10_15  3117 non-null   float64\n",
      " 29  PCT_LACCESS_SENIORS10      3143 non-null   float64\n",
      " 30  PCT_LACCESS_SENIORS15      3124 non-null   float64\n",
      " 31  LACCESS_WHITE15            3124 non-null   float64\n",
      " 32  PCT_LACCESS_WHITE15        3124 non-null   float64\n",
      " 33  LACCESS_BLACK15            3124 non-null   float64\n",
      " 34  PCT_LACCESS_BLACK15        3124 non-null   float64\n",
      " 35  LACCESS_HISP15             3124 non-null   float64\n",
      " 36  PCT_LACCESS_HISP15         3124 non-null   float64\n",
      " 37  LACCESS_NHASIAN15          3124 non-null   float64\n",
      " 38  PCT_LACCESS_NHASIAN15      3124 non-null   float64\n",
      " 39  LACCESS_NHNA15             3124 non-null   float64\n",
      " 40  PCT_LACCESS_NHNA15         3124 non-null   float64\n",
      " 41  LACCESS_NHPI15             3124 non-null   float64\n",
      " 42  PCT_LACCESS_NHPI15         3124 non-null   float64\n",
      " 43  LACCESS_MULTIR15           3124 non-null   float64\n",
      " 44  PCT_LACCESS_MULTIR15       3124 non-null   float64\n",
      "dtypes: float64(41), int64(2), object(2)\n",
      "memory usage: 1.1+ MB\n",
      "None\n",
      "==============================\n",
      "\n",
      "\n",
      "==============================\n",
      "Table: variable_list\n",
      "==============================\n",
      "Number of rows: 281\n",
      "Number of columns: 8\n",
      "\n",
      "Summary:\n",
      "   index                          Category Name Category Code  \\\n",
      "0      0  Access and Proximity to Grocery Store        ACCESS   \n",
      "1      1  Access and Proximity to Grocery Store        ACCESS   \n",
      "2      2  Access and Proximity to Grocery Store        ACCESS   \n",
      "3      3  Access and Proximity to Grocery Store        ACCESS   \n",
      "4      4  Access and Proximity to Grocery Store        ACCESS   \n",
      "\n",
      "  Subcategory Name                                      Variable Name  \\\n",
      "0          Overall              Population, low access to store, 2010   \n",
      "1          Overall              Population, low access to store, 2015   \n",
      "2          Overall  Population, low access to store (% change), 20...   \n",
      "3          Overall          Population, low access to store (%), 2010   \n",
      "4          Overall          Population, low access to store (%), 2015   \n",
      "\n",
      "           Variable Code Geography     Units  \n",
      "0          LACCESS_POP10    CNTY10     Count  \n",
      "1          LACCESS_POP15    CNTY10     Count  \n",
      "2  PCH_LACCESS_POP_10_15    CNTY10  % change  \n",
      "3      PCT_LACCESS_POP10    CNTY10   Percent  \n",
      "4      PCT_LACCESS_POP15    CNTY10   Percent  \n",
      "\n",
      "Dataframe Info:\n",
      "<class 'pandas.core.frame.DataFrame'>\n",
      "RangeIndex: 281 entries, 0 to 280\n",
      "Data columns (total 8 columns):\n",
      " #   Column            Non-Null Count  Dtype \n",
      "---  ------            --------------  ----- \n",
      " 0   index             281 non-null    int64 \n",
      " 1   Category Name     281 non-null    object\n",
      " 2   Category Code     281 non-null    object\n",
      " 3   Subcategory Name  281 non-null    object\n",
      " 4   Variable Name     281 non-null    object\n",
      " 5   Variable Code     281 non-null    object\n",
      " 6   Geography         281 non-null    object\n",
      " 7   Units             281 non-null    object\n",
      "dtypes: int64(1), object(7)\n",
      "memory usage: 17.7+ KB\n",
      "None\n",
      "==============================\n",
      "\n",
      "\n"
     ]
    }
   ],
   "source": [
    "# Store DataFrames in a dictionary for easier access\n",
    "dfs = {}\n",
    "\n",
    "# Loop through each table\n",
    "for table in tables:\n",
    "    table_name = table[0]\n",
    "    print(\"=\"*30) #Create a line separator for better readability \n",
    "    print(f\"Table: {table_name}\") #F-strings in Python to allow printing of string + a variable \n",
    "    print(\"=\"*30)\n",
    "\n",
    "    # Get the number of rows for the table\n",
    "    cursor.execute(f\"SELECT COUNT(*) FROM {table_name}\")\n",
    "    row_count = cursor.fetchone()[0]\n",
    "    print(f\"Number of rows: {row_count}\")\n",
    "    \n",
    "    # Get the column names and number of columns for the table\n",
    "    cursor.execute(f\"PRAGMA table_info({table_name})\")\n",
    "    columns = cursor.fetchall()\n",
    "    column_count = len(columns)\n",
    "    print(f\"Number of columns: {column_count}\")\n",
    "\n",
    "    # Fetch the entire table and load it into a pandas DataFrame\n",
    "    query = f\"SELECT * FROM {table_name};\"\n",
    "    df = pd.read_sql_query(query, conn)\n",
    "    \n",
    "    # Store the DataFrame in a dictionary\n",
    "    dfs[table_name] = df\n",
    "\n",
    "    # Optionally, print out the head and summary for the table\n",
    "    print(\"\\nSummary:\")\n",
    "    print(df.head())  # Show first 5 rows\n",
    "    print(\"\\nDataframe Info:\")\n",
    "    print(df.info())  # Show dataframe summary\n",
    "    print(\"=\"*30 + \"\\n\"*2)"
   ]
  },
  {
   "cell_type": "markdown",
   "id": "d8e8c4b0-c7b4-4dd1-8c83-f955c266f423",
   "metadata": {},
   "source": [
    "#### I see a FIPS code in Access, as well as more granular GEO-ID's in the five_hundred_cities table. Let's see how we can join these tables"
   ]
  },
  {
   "cell_type": "markdown",
   "id": "c88ff6a6-b50b-40db-830e-092d00a15b72",
   "metadata": {},
   "source": [
    "## **Core Question 1: Where should we deploy a food access program**\n",
    "\n",
    "Goal: Identify geographic areas, such as zip codes, counties, census tracts, etc. that are most in need of food access support\n",
    "\n",
    "- Before I can answer this question, let's clean up my data and get a clear idea of what variables to take into consideration when planning a food access program\n",
    "\n"
   ]
  },
  {
   "cell_type": "code",
   "execution_count": 254,
   "id": "b562f3b6-e463-4c88-a640-f2af4f419f86",
   "metadata": {},
   "outputs": [
    {
     "name": "stdout",
     "output_type": "stream",
     "text": [
      "[(316, 4), (2827, 5)]\n"
     ]
    }
   ],
   "source": [
    "#Analyzing table structure before joining tables:\n",
    "\n",
    "#The following query shows us that the FIPS codes from the \"Access\" table all contain 4 or 5 numbers. \n",
    "\n",
    "query= \"\"\"\n",
    "\n",
    "SELECT count(*), length(fips) fipslength\n",
    "FROM Access\n",
    "group by fipslength\n",
    "; \n",
    "\"\"\"\n",
    "\n",
    "cursor.execute(query)\n",
    "\n",
    "#Fetch the results from the query\n",
    "result = cursor.fetchall()\n",
    "\n",
    "\n",
    "#Display the result\n",
    "\n",
    "print(result)\n",
    "\n",
    "#This indicates that 316 rows have a FIPS length of 4, while 2827 rows in Access have a 5-digit FIPS code. \n",
    "\n"
   ]
  },
  {
   "cell_type": "markdown",
   "id": "c88ca624-4e26-4f0e-b810-f13d11dc39b1",
   "metadata": {
    "tags": []
   },
   "source": [
    "By looking at the challenge.db Database, I observed that the \"Access\" Table's FIPS code is at the **county** level, while the five_hundred_cities table has columns indicating a \"Place\" i.e. city, census tract, and a combination of the two values. \n",
    "\n",
    "- Each Tract must belong to a County, so my aim is to Inner Join the two tables by extracting the county number from the five_hundred_cities table, and joining it to Access.FIPS\n",
    "    "
   ]
  },
  {
   "cell_type": "markdown",
   "id": "617900ec-d96f-42e2-a1bc-b33eaa50f029",
   "metadata": {
    "tags": []
   },
   "source": [
    "### **Data Quality Check for INNER JOIN** \n",
    "\n",
    "   - Some research indicated that FIPS codes, as presented in the ACCESS table are *supposed* to be of length 5.\n",
    "    \n",
    "   - After filtering Data in the ACCESS table and running exploratory queries, I found that data will be most consistent if I only include the FIPS codes of length 5 from access.\n",
    "    \n",
    "    \n",
    "#### <b>Why?</b>\n",
    "        \n",
    "        In cases where the FIPS code is of length 4, for example  '1073' (index 36), this matches with the 4 leftmost digits of five_hundred_cities.Tractfips, but when the leading 0 is added to make 01073, there is no longer a match. However, many of the FIPS codes of length 4 required '0' padded in the first index to match the five_hundred_cities.tractfips, and according to government standards, the TractFIPS' first 5 numbers should be equal to a state and county FIPS code. \n",
    "        \n",
    " - In short, due to an inconsistency in FIPS formatting in the \"Access\" table as well as inconsistent transformations needed to match either five_hundred_cities.PlaceFIPS or a 4-5 digit segment of PlaceFIPS or TractFIPS, I am choosing to conduct my analysis on a subset of the data that is \"clean\".\n",
    "        \n",
    " \n",
    " \n",
    " \n",
    " #### Let's see if we can get a \"clean\" subset of the data that still represents a large enough portion of the total data to yield useful insights and statistically significant findings"
   ]
  },
  {
   "cell_type": "code",
   "execution_count": 255,
   "id": "16d3d43c-c8cd-4ec4-a7d7-1ba35068ea47",
   "metadata": {},
   "outputs": [
    {
     "name": "stdout",
     "output_type": "stream",
     "text": [
      "[(19549,)]\n"
     ]
    }
   ],
   "source": [
    "\n",
    "\n",
    "\n",
    "\n",
    "query = \"\"\"SELECT count(*) as mergedcount\n",
    "FROM Access A\n",
    "JOIN five_hundred_cities b \n",
    "ON A.FIPS = substr(b.TractFIPS,1,5)\n",
    "and A.State = b.StateAbbr\n",
    "\"\"\"\n",
    "\n",
    "cursor.execute(query)\n",
    "\n",
    "result = cursor.fetchall()\n",
    "\n",
    "print(result)"
   ]
  },
  {
   "cell_type": "markdown",
   "id": "48c995e9-b4a6-46b3-8314-329b6e8534c3",
   "metadata": {},
   "source": [
    "Joining the tables was successful. Note that I added the additional Join clause of the states being equal to one another, just to avoid any potential edge cases where a FIPS code from ACCESS matched the leftmost 5 digits in five_hundred_cities.TractFIPS, but the states are mismatched.\n"
   ]
  },
  {
   "cell_type": "code",
   "execution_count": 256,
   "id": "b47592d9-7c7e-42c9-9765-c28c35466034",
   "metadata": {},
   "outputs": [
    {
     "name": "stdout",
     "output_type": "stream",
     "text": [
      "Size of merged table: 19549 rows and 109 columns\n"
     ]
    },
    {
     "data": {
      "text/html": [
       "<div>\n",
       "<style scoped>\n",
       "    .dataframe tbody tr th:only-of-type {\n",
       "        vertical-align: middle;\n",
       "    }\n",
       "\n",
       "    .dataframe tbody tr th {\n",
       "        vertical-align: top;\n",
       "    }\n",
       "\n",
       "    .dataframe thead th {\n",
       "        text-align: right;\n",
       "    }\n",
       "</style>\n",
       "<table border=\"1\" class=\"dataframe\">\n",
       "  <thead>\n",
       "    <tr style=\"text-align: right;\">\n",
       "      <th></th>\n",
       "      <th>index</th>\n",
       "      <th>FIPS</th>\n",
       "      <th>State</th>\n",
       "      <th>County</th>\n",
       "      <th>LACCESS_POP10</th>\n",
       "      <th>LACCESS_POP15</th>\n",
       "      <th>PCH_LACCESS_POP_10_15</th>\n",
       "      <th>PCT_LACCESS_POP10</th>\n",
       "      <th>PCT_LACCESS_POP15</th>\n",
       "      <th>LACCESS_LOWI10</th>\n",
       "      <th>...</th>\n",
       "      <th>PAPTEST_Crude95CI</th>\n",
       "      <th>PHLTH_CrudePrev</th>\n",
       "      <th>PHLTH_Crude95CI</th>\n",
       "      <th>SLEEP_CrudePrev</th>\n",
       "      <th>SLEEP_Crude95CI</th>\n",
       "      <th>STROKE_CrudePrev</th>\n",
       "      <th>STROKE_Crude95CI</th>\n",
       "      <th>TEETHLOST_CrudePrev</th>\n",
       "      <th>TEETHLOST_Crude95CI</th>\n",
       "      <th>Geolocation</th>\n",
       "    </tr>\n",
       "  </thead>\n",
       "  <tbody>\n",
       "    <tr>\n",
       "      <th>0</th>\n",
       "      <td>317</td>\n",
       "      <td>10003</td>\n",
       "      <td>DE</td>\n",
       "      <td>New Castle</td>\n",
       "      <td>164990.350761</td>\n",
       "      <td>122163.689387</td>\n",
       "      <td>-25.95707</td>\n",
       "      <td>30.640072</td>\n",
       "      <td>22.686807</td>\n",
       "      <td>34982.916076</td>\n",
       "      <td>...</td>\n",
       "      <td>(81.9, 86.5)</td>\n",
       "      <td>14.9</td>\n",
       "      <td>(13.4, 16.5)</td>\n",
       "      <td>44.7</td>\n",
       "      <td>(42.9, 46.3)</td>\n",
       "      <td>4.4</td>\n",
       "      <td>( 3.9,  4.9)</td>\n",
       "      <td>19.9</td>\n",
       "      <td>(13.8, 26.6)</td>\n",
       "      <td>(39.76458634220, -75.5282126571)</td>\n",
       "    </tr>\n",
       "    <tr>\n",
       "      <th>1</th>\n",
       "      <td>317</td>\n",
       "      <td>10003</td>\n",
       "      <td>DE</td>\n",
       "      <td>New Castle</td>\n",
       "      <td>164990.350761</td>\n",
       "      <td>122163.689387</td>\n",
       "      <td>-25.95707</td>\n",
       "      <td>30.640072</td>\n",
       "      <td>22.686807</td>\n",
       "      <td>34982.916076</td>\n",
       "      <td>...</td>\n",
       "      <td>(82.4, 86.4)</td>\n",
       "      <td>15.5</td>\n",
       "      <td>(13.9, 17.2)</td>\n",
       "      <td>45.6</td>\n",
       "      <td>(43.8, 47.2)</td>\n",
       "      <td>4.4</td>\n",
       "      <td>( 3.9,  4.9)</td>\n",
       "      <td>21.5</td>\n",
       "      <td>(15.5, 27.9)</td>\n",
       "      <td>(39.76089632670, -75.5391642904)</td>\n",
       "    </tr>\n",
       "    <tr>\n",
       "      <th>2</th>\n",
       "      <td>317</td>\n",
       "      <td>10003</td>\n",
       "      <td>DE</td>\n",
       "      <td>New Castle</td>\n",
       "      <td>164990.350761</td>\n",
       "      <td>122163.689387</td>\n",
       "      <td>-25.95707</td>\n",
       "      <td>30.640072</td>\n",
       "      <td>22.686807</td>\n",
       "      <td>34982.916076</td>\n",
       "      <td>...</td>\n",
       "      <td>(80.9, 85.1)</td>\n",
       "      <td>16.5</td>\n",
       "      <td>(15.1, 17.9)</td>\n",
       "      <td>41.9</td>\n",
       "      <td>(40.5, 43.3)</td>\n",
       "      <td>5.0</td>\n",
       "      <td>( 4.5,  5.5)</td>\n",
       "      <td>23.9</td>\n",
       "      <td>(17.0, 31.3)</td>\n",
       "      <td>(39.75883975840, -75.5479434725)</td>\n",
       "    </tr>\n",
       "    <tr>\n",
       "      <th>3</th>\n",
       "      <td>317</td>\n",
       "      <td>10003</td>\n",
       "      <td>DE</td>\n",
       "      <td>New Castle</td>\n",
       "      <td>164990.350761</td>\n",
       "      <td>122163.689387</td>\n",
       "      <td>-25.95707</td>\n",
       "      <td>30.640072</td>\n",
       "      <td>22.686807</td>\n",
       "      <td>34982.916076</td>\n",
       "      <td>...</td>\n",
       "      <td>(82.2, 86.5)</td>\n",
       "      <td>17.9</td>\n",
       "      <td>(16.2, 19.7)</td>\n",
       "      <td>47.8</td>\n",
       "      <td>(46.0, 49.5)</td>\n",
       "      <td>5.3</td>\n",
       "      <td>( 4.7,  5.9)</td>\n",
       "      <td>25.4</td>\n",
       "      <td>(18.7, 33.4)</td>\n",
       "      <td>(39.75449784760, -75.5400608645)</td>\n",
       "    </tr>\n",
       "    <tr>\n",
       "      <th>4</th>\n",
       "      <td>317</td>\n",
       "      <td>10003</td>\n",
       "      <td>DE</td>\n",
       "      <td>New Castle</td>\n",
       "      <td>164990.350761</td>\n",
       "      <td>122163.689387</td>\n",
       "      <td>-25.95707</td>\n",
       "      <td>30.640072</td>\n",
       "      <td>22.686807</td>\n",
       "      <td>34982.916076</td>\n",
       "      <td>...</td>\n",
       "      <td>(82.5, 86.9)</td>\n",
       "      <td>16.6</td>\n",
       "      <td>(15.0, 18.3)</td>\n",
       "      <td>47.6</td>\n",
       "      <td>(45.7, 49.2)</td>\n",
       "      <td>4.9</td>\n",
       "      <td>( 4.4,  5.4)</td>\n",
       "      <td>25.8</td>\n",
       "      <td>(18.7, 33.9)</td>\n",
       "      <td>(39.75270589360, -75.5290070537)</td>\n",
       "    </tr>\n",
       "  </tbody>\n",
       "</table>\n",
       "<p>5 rows × 109 columns</p>\n",
       "</div>"
      ],
      "text/plain": [
       "   index   FIPS State      County  LACCESS_POP10  LACCESS_POP15  \\\n",
       "0    317  10003    DE  New Castle  164990.350761  122163.689387   \n",
       "1    317  10003    DE  New Castle  164990.350761  122163.689387   \n",
       "2    317  10003    DE  New Castle  164990.350761  122163.689387   \n",
       "3    317  10003    DE  New Castle  164990.350761  122163.689387   \n",
       "4    317  10003    DE  New Castle  164990.350761  122163.689387   \n",
       "\n",
       "   PCH_LACCESS_POP_10_15  PCT_LACCESS_POP10  PCT_LACCESS_POP15  \\\n",
       "0              -25.95707          30.640072          22.686807   \n",
       "1              -25.95707          30.640072          22.686807   \n",
       "2              -25.95707          30.640072          22.686807   \n",
       "3              -25.95707          30.640072          22.686807   \n",
       "4              -25.95707          30.640072          22.686807   \n",
       "\n",
       "   LACCESS_LOWI10  ...  PAPTEST_Crude95CI  PHLTH_CrudePrev  PHLTH_Crude95CI  \\\n",
       "0    34982.916076  ...       (81.9, 86.5)             14.9     (13.4, 16.5)   \n",
       "1    34982.916076  ...       (82.4, 86.4)             15.5     (13.9, 17.2)   \n",
       "2    34982.916076  ...       (80.9, 85.1)             16.5     (15.1, 17.9)   \n",
       "3    34982.916076  ...       (82.2, 86.5)             17.9     (16.2, 19.7)   \n",
       "4    34982.916076  ...       (82.5, 86.9)             16.6     (15.0, 18.3)   \n",
       "\n",
       "   SLEEP_CrudePrev  SLEEP_Crude95CI  STROKE_CrudePrev  STROKE_Crude95CI  \\\n",
       "0             44.7     (42.9, 46.3)               4.4      ( 3.9,  4.9)   \n",
       "1             45.6     (43.8, 47.2)               4.4      ( 3.9,  4.9)   \n",
       "2             41.9     (40.5, 43.3)               5.0      ( 4.5,  5.5)   \n",
       "3             47.8     (46.0, 49.5)               5.3      ( 4.7,  5.9)   \n",
       "4             47.6     (45.7, 49.2)               4.9      ( 4.4,  5.4)   \n",
       "\n",
       "   TEETHLOST_CrudePrev  TEETHLOST_Crude95CI                       Geolocation  \n",
       "0                 19.9         (13.8, 26.6)  (39.76458634220, -75.5282126571)  \n",
       "1                 21.5         (15.5, 27.9)  (39.76089632670, -75.5391642904)  \n",
       "2                 23.9         (17.0, 31.3)  (39.75883975840, -75.5479434725)  \n",
       "3                 25.4         (18.7, 33.4)  (39.75449784760, -75.5400608645)  \n",
       "4                 25.8         (18.7, 33.9)  (39.75270589360, -75.5290070537)  \n",
       "\n",
       "[5 rows x 109 columns]"
      ]
     },
     "metadata": {},
     "output_type": "display_data"
    }
   ],
   "source": [
    "#Lets store the 19,549 that result from the INNER JOIN in a Pandas DataFrame for further analysis\n",
    "\n",
    "query = \"\"\"\n",
    "SELECT *\n",
    "FROM access A\n",
    "JOIN five_hundred_cities B\n",
    "ON A.FIPS = substr(B.TractFIPS, 1, 5)\n",
    "AND A.State = B.StateAbbr\n",
    "\"\"\"\n",
    "\n",
    "# Execute the query and load the result into a pandas DataFrame\n",
    "merged_df = pd.read_sql_query(query, conn)\n",
    "\n",
    "# Display the size and head of the merged DataFrame\n",
    "print(f\"Size of merged table: {merged_df.shape[0]} rows and {merged_df.shape[1]} columns\")\n",
    "display(merged_df.head())"
   ]
  },
  {
   "cell_type": "code",
   "execution_count": 257,
   "id": "4840fb1b-1715-4b5a-a00b-fbe416827bc8",
   "metadata": {},
   "outputs": [
    {
     "name": "stdout",
     "output_type": "stream",
     "text": [
      "[(3143,)]\n"
     ]
    }
   ],
   "source": [
    "#The following query showed me that not all FIPS codes from Access are used in the five_hundred_cities table, which is completely fine. \n",
    "#Now let's use this cleaned subset of data to answer: \n",
    "\n",
    "query = \"\"\"SELECT \n",
    "    count(FIPS) as missing_fips_count\n",
    "FROM \n",
    "    Access\n",
    "EXCEPT\n",
    "SELECT \n",
    "    substr(TractFIPS, 1, 5)\n",
    "FROM \n",
    "    five_hundred_cities;\"\"\"\n",
    "\n",
    "cursor.execute(query)\n",
    "\n",
    "result = cursor.fetchall()\n",
    "\n",
    "print(result)"
   ]
  },
  {
   "cell_type": "markdown",
   "id": "d8261cf1-9080-4512-8638-a73cb0ba1dd0",
   "metadata": {
    "tags": []
   },
   "source": [
    "## Revisiting Core question 1: Where Should We Deploy a Food Access Program?\n",
    "  \n",
    "-  #### Now that the data is cleaned, let's consider these topics to help us answer the question.\n",
    "      1) What numerical measure can best define an area that is \"in need\" of a food access program?\n",
    "      2) What variables are highly correlated with an in-need county, and can we perform feature selection to select the most impactful subset of variables from the access and five_hundred_cities tables to avoid an overfitted model\n",
    "      3) After identifying a few counties that are good targets for intervention, what health effects can we hope to alleviate/improve in these counties? \n",
    "      \n"
   ]
  },
  {
   "cell_type": "markdown",
   "id": "c53ca1d6-391a-4e36-bf22-a01ea984db54",
   "metadata": {},
   "source": [
    "### I have decided that counties with a high absolute number of people with Low access to food in 2015 should be the target demographic. \n",
    " - **Counties that also have high rates of children and seniors with low access will be prioritized, if all else is equal.**\n",
    " "
   ]
  },
  {
   "cell_type": "markdown",
   "id": "92273c2e-6dc1-4db3-8733-f5b879c73257",
   "metadata": {
    "jp-MarkdownHeadingCollapsed": true,
    "tags": []
   },
   "source": [
    "\n",
    "\n",
    " - Why not percentage as opposed to crude value?\n",
    "     - Very many counties **(see following screenshot)** have percentage values of 100% or 99%, and there are even counties where percentage values exceeed 100%, which indicates mistakes in either data entry, counting of populations, or other data quality issues.\n",
    "     - With so many counties with high percentages of food access issues, I have to decide where is the most efficient location to allocate a limited set of resources. To help the most amount of people, I believe in deploying food access programs in urban counties with large populations struggling with food access.\n",
    "     - Urban centers tend to have better access to public transportation and more government funding with food access programs, meaning the impact of a food access program may benefit more people and be more easily accessible than in a rural county, even if it has a high percentage of people lacking proper food access. \n",
    " \n",
    "\n",
    "Why 2015 as opposed to 2010, or looking at both years?\n",
    "   - 2015 is, of course, more recently updated data and thus holds more weight than older data, very generally speaking. \n",
    "   - A quick look through the database suggested that food access issues that were prevalent for counties in 2010, are still prevalent in the same counties in 2015. "
   ]
  },
  {
   "cell_type": "markdown",
   "id": "47065e4d-514f-4186-b4ca-413abd5ee457",
   "metadata": {},
   "source": [
    "![Data Visualization](C:/Users/Scott/Pictures/pctlowaccess.png)\n"
   ]
  },
  {
   "cell_type": "markdown",
   "id": "a2445860-8205-4658-8b73-7f506000b900",
   "metadata": {},
   "source": [
    "Before I finalize which County to select for a food access program deployment, let's undergo Feature Selection to identify **which variables in the \"Access\" Table most strongly predict a large amount of low-access individuals**"
   ]
  },
  {
   "cell_type": "code",
   "execution_count": 262,
   "id": "0e12303d-6213-4343-a6b3-9427efd72c8f",
   "metadata": {},
   "outputs": [
    {
     "name": "stdout",
     "output_type": "stream",
     "text": [
      "                 Predictor    Importance\n",
      "22         LACCESS_CHILD15  6.931885e-01\n",
      "5            LACCESS_POP10  1.958356e-01\n",
      "33         LACCESS_BLACK15  5.907396e-02\n",
      "31         LACCESS_WHITE15  2.873761e-02\n",
      "27       LACCESS_SENIORS15  5.084684e-03\n",
      "..                     ...           ...\n",
      "53     ARTHRITIS_CrudePrev  4.935837e-10\n",
      "59           CHD_CrudePrev  4.097744e-10\n",
      "62  COLON_SCREEN_CrudePrev  2.743932e-10\n",
      "73         MHLTH_CrudePrev  2.854683e-11\n",
      "61    CHOLSCREEN_CrudePrev  1.904141e-11\n",
      "\n",
      "[80 rows x 2 columns]\n"
     ]
    }
   ],
   "source": [
    "# Identify numeric columns only\n",
    "numeric_columns = merged_df.select_dtypes(include=['number']).columns\n",
    "\n",
    "# Dynamically select numeric predictor columns (all except the dependent variable)\n",
    "predictor_columns = [col for col in numeric_columns if col != 'LACCESS_POP15']\n",
    "\n",
    "# Prepare the dataset and drop rows with missing or zero values\n",
    "cleaned_data = merged_df[predictor_columns + ['LACCESS_POP15']].replace(0.0, pd.NA).dropna()\n",
    "\n",
    "# Define the features (X) and target variable (y)\n",
    "X_features = cleaned_data[predictor_columns]  # Independent variables\n",
    "y_target = cleaned_data['LACCESS_POP15']      # Dependent variable\n",
    "\n",
    "# Train a Random Forest Regressor\n",
    "random_forest_model = RandomForestRegressor(random_state=333)\n",
    "random_forest_model.fit(X_features, y_target)\n",
    "\n",
    "# Compute feature importance scores\n",
    "feature_importance_scores = pd.DataFrame({\n",
    "    'Predictor': X_features.columns,\n",
    "    'Importance': random_forest_model.feature_importances_\n",
    "}).sort_values(by='Importance', ascending=False)\n",
    "\n",
    "# Display the feature importance scores\n",
    "print(feature_importance_scores)\n"
   ]
  },
  {
   "cell_type": "markdown",
   "id": "027af862-48f3-4017-8b13-c0de0901063a",
   "metadata": {
    "tags": []
   },
   "source": [
    "#### Now we have a constant between 0-1 for each independent variable within the \"Access\" table that indicates its predictive power in determining if an area will have a large population with food access issues. \n",
    "    - It's instantly obvious that the \"LACCESS_CHILD15\" column accounts for more variability in the response variable than any other feature, perhaps suggesting that if an area's children (whom are generally treated with more care/caution than adults) are suffering from food access issues, then the county as a whole may be struggling as well. \n",
    "    - The 2nd variable being \"LACCESS_POP10\" verified my previous claim that there is a strong linear connection between Counties that have food access issues in 2010 and 2015, hence why I have chosen to analyze the more recent subset of data for this study. \n",
    "    \n",
    "\n",
    "\n"
   ]
  },
  {
   "cell_type": "markdown",
   "id": "e0b3ad09-0ecb-49fd-abcd-e1ee8b4c378c",
   "metadata": {},
   "source": [
    "##### Remember that we particularly care about communities with a large senior population, as that's the primary target demographic of Medicare Advantage plans. \n",
    "\n",
    "   - Let's explore counties that tick all 3 considerations: High population with low access to food, many children with low access, and many seniors with low access."
   ]
  },
  {
   "cell_type": "code",
   "execution_count": 266,
   "id": "4075709d-f49a-46b4-a177-f5475cc742fd",
   "metadata": {},
   "outputs": [
    {
     "name": "stdout",
     "output_type": "stream",
     "text": [
      "Top 5 Counties by LACCESS_POP15 (Unique):\n",
      "        County State  LACCESS_POP15\n",
      "16285   Harris    TX  740267.412661\n",
      "17256  Tarrant    TX  463702.839418\n",
      "14931    Bexar    TX  451601.664033\n",
      "15483   Dallas    TX  393661.068695\n",
      "2262      Cook    IL  373742.394052\n",
      "\n",
      "Top 5 Counties by LACCESS_CHILD15 (Unique):\n",
      "        County State  LACCESS_CHILD15\n",
      "16285   Harris    TX    219002.492912\n",
      "17256  Tarrant    TX    128700.329762\n",
      "14931    Bexar    TX    116520.346723\n",
      "15483   Dallas    TX    108978.768135\n",
      "16879  Hidalgo    TX     96116.276486\n",
      "\n",
      "Top 5 Counties by LACCESS_SENIORS15 (Unique):\n",
      "          County State  LACCESS_SENIORS15\n",
      "16285     Harris    TX       58163.408469\n",
      "13441  Allegheny    PA       53613.316312\n",
      "2262        Cook    IL       51870.324323\n",
      "5512   Middlesex    MA       50145.960086\n",
      "6097     Oakland    MI       46943.657325\n",
      "\n",
      "Counties Appearing in All Three Top 5 Lists:\n",
      "   County State_pop15  LACCESS_POP15 State_child15  LACCESS_CHILD15 State  \\\n",
      "0  Harris          TX  740267.412661            TX    219002.492912    TX   \n",
      "\n",
      "   LACCESS_SENIORS15  \n",
      "0       58163.408469  \n"
     ]
    }
   ],
   "source": [
    "# Deduplicate rows to ensure unique County entries\n",
    "unique_merged_df = merged_df.drop_duplicates(subset='County')\n",
    "\n",
    "# Top 5 counties by LACCESS_POP15\n",
    "top_laccess_pop15 = unique_merged_df[['County', 'State', 'LACCESS_POP15']].sort_values(\n",
    "    by='LACCESS_POP15', ascending=False\n",
    ").head(5)\n",
    "\n",
    "# Top 5 counties by LACCESS_CHILD15\n",
    "top_laccess_child15 = unique_merged_df[['County', 'State', 'LACCESS_CHILD15']].sort_values(\n",
    "    by='LACCESS_CHILD15', ascending=False\n",
    ").head(5)\n",
    "\n",
    "# Top 5 counties by LACCESS_SENIORS15\n",
    "top_laccess_seniors15 = unique_merged_df[['County', 'State', 'LACCESS_SENIORS15']].sort_values(\n",
    "    by='LACCESS_SENIORS15', ascending=False\n",
    ").head(5)\n",
    "\n",
    "# Find overlapping counties across all three lists\n",
    "overlap = pd.merge(\n",
    "    top_laccess_pop15, top_laccess_child15, on='County', how='inner', suffixes=('_pop15', '_child15')\n",
    ")\n",
    "overlap = pd.merge(overlap, top_laccess_seniors15, on='County', how='inner')\n",
    "\n",
    "# Display results\n",
    "print(\"Top 5 Counties by LACCESS_POP15 (Unique):\")\n",
    "print(top_laccess_pop15)\n",
    "\n",
    "print(\"\\nTop 5 Counties by LACCESS_CHILD15 (Unique):\")\n",
    "print(top_laccess_child15)\n",
    "\n",
    "print(\"\\nTop 5 Counties by LACCESS_SENIORS15 (Unique):\")\n",
    "print(top_laccess_seniors15)\n",
    "\n",
    "print(\"\\nCounties Appearing in All Three Top 5 Lists:\")\n",
    "print(overlap)\n"
   ]
  },
  {
   "cell_type": "code",
   "execution_count": 267,
   "id": "24d02e68-ca5c-4473-a5c2-ef6f777da5df",
   "metadata": {},
   "outputs": [
    {
     "data": {
      "image/png": "[encoded data removed]",
      "text/plain": [
       "<Figure size 864x576 with 2 Axes>"
      ]
     },
     "metadata": {
      "needs_background": "light"
     },
     "output_type": "display_data"
    }
   ],
   "source": [
    "import seaborn as sns\n",
    "import numpy as np\n",
    "\n",
    "# Combine the data into a single DataFrame for heatmap visualization\n",
    "heatmap_data = pd.DataFrame({\n",
    "    'County': ['Harris', 'Tarrant', 'Bexar', 'Dallas', 'Cook', 'Hidalgo', 'Allegheny', 'Middlesex', 'Oakland'],\n",
    "    'State': ['TX', 'TX', 'TX', 'TX', 'IL', 'TX', 'PA', 'MA', 'MI'],\n",
    "    'LACCESS_POP15': [740267.412661, 463702.839418, 451601.664033, 393661.068695, 373742.394052, np.nan, np.nan, np.nan, np.nan],\n",
    "    'LACCESS_CHILD15': [219002.492912, 128700.329762, 116520.346723, 108978.768135, np.nan, 96116.276486, np.nan, np.nan, np.nan],\n",
    "    'LACCESS_SENIORS15': [58163.408469, np.nan, np.nan, np.nan, 51870.324323, np.nan, 53613.316312, 50145.960086, 46943.657325]\n",
    "}).set_index('County')\n",
    "\n",
    "# Plot heatmap\n",
    "plt.figure(figsize=(12, 8))\n",
    "sns.heatmap(\n",
    "    heatmap_data.drop(columns=['State']),  # Exclude 'State' from heatmap values\n",
    "    annot=True,\n",
    "    fmt=\".0f\",\n",
    "    cmap=\"coolwarm\",\n",
    "    linewidths=0.5,\n",
    "    cbar_kws={'label': 'Low-Access Population'}\n",
    ")\n",
    "plt.title(\"Heatmap of Low-Access Population by Category and County\", fontsize=14)\n",
    "plt.xlabel(\"Category\", fontsize=12)\n",
    "plt.ylabel(\"County\", fontsize=12)\n",
    "plt.tight_layout()\n",
    "plt.show()"
   ]
  },
  {
   "cell_type": "markdown",
   "id": "03e5ee12-b564-47e7-9a3a-38fb7e618a16",
   "metadata": {
    "tags": []
   },
   "source": [
    "### Choosing a county:\n",
    "\n",
    "Now having explored the Counties with the highest numbers of low-food-access individuals overall, for children, and for seniors, I see that <b> Harris County, Texas </b> stands out as being high on all 3 lists. This indicates that this county may be a suitable target for an intervention, where we can establish a food access program. "
   ]
  },
  {
   "cell_type": "markdown",
   "id": "92b356f2-e009-4a82-82b2-8ab28586a11c",
   "metadata": {},
   "source": [
    "## **How many people will be included in the Food Access Program?**"
   ]
  },
  {
   "cell_type": "markdown",
   "id": "8300a860-cd9a-4e9b-bef9-500a5929ca03",
   "metadata": {},
   "source": [
    "First let's consider that our client is a Medicare Advantage Plan, and Medicare plans, with a few exceptions, primarily target the senior population. So amongst the total amount of people with low access to food in Harris County (740267), let's identify what portion of that county is a Senior. "
   ]
  },
  {
   "cell_type": "code",
   "execution_count": 285,
   "id": "e08fe780-8f31-4cc8-b708-6a18bc295c78",
   "metadata": {},
   "outputs": [
    {
     "name": "stdout",
     "output_type": "stream",
     "text": [
      "[(58163.4084691074,)]\n"
     ]
    }
   ],
   "source": [
    "query = \"\"\"\n",
    "    select laccess_seniors15\n",
    "    from access\n",
    "    where state ='TX'\n",
    "    and County = 'Harris'\n",
    "    \"\"\"\n",
    "\n",
    "cursor.execute(query)\n",
    "\n",
    "result = cursor.fetchall()\n",
    "\n",
    "print(result)\n",
    "            "
   ]
  },
  {
   "cell_type": "markdown",
   "id": "702fa135-5338-4824-8c95-34eeaf9fe981",
   "metadata": {},
   "source": [
    "Of the nearly 800,000 people with low access to food in Harris County, about 58,000 appear to be Seniors as of 2015. We can imagine that not all seniors have access to public transportation, and not all of them drive. Let's explore if there are any fields in the \"Access\" table that indicate a lack of transportation..\n",
    "\n",
    " - I have identified \"LACESS_HHNV15\": Which shows the number of households with no vehicle in 2015. Harris county had 12,878 such households, and assuming that an average household has 3 people, I estimate that 12,878 * 3 ~ 38,000 people in Harris county have poor access to food and no vehicle. \n",
    " - This value represents about 5% of the 800,000 Low-access people in Harris county. "
   ]
  },
  {
   "cell_type": "markdown",
   "id": "03b6c4de-5349-4e71-945a-5358d0b6fa4a",
   "metadata": {},
   "source": [
    "Assuming that this Food Access Program will be rolled out and targetting the Senior demographic, it's likely that only the subset of the sample that has appropriate access to transportation will benefit from the program, and there are other variables to consider such as if the targetted individuals are aware of a food access program, if they are interested in it, what the perceived benefit of it is, etc.\n",
    "\n",
    "- **With no concrete data to quantify what portion of the Senior population will be interested or have access to our Food Access Program, I will go with a conservative estimate of 50%, meaning the program aims to include _about 30,000 Seniors in Harris County, Texas_**"
   ]
  },
  {
   "cell_type": "markdown",
   "id": "142535d2-2bec-4d11-8e01-cd6b0c306093",
   "metadata": {
    "tags": []
   },
   "source": [
    "## 3) Which subgroup of the population might benefit the most?\n",
    "\n",
    "**Determine target groups (e.g., children, seniors, low-income households) based on vulnerability and impact potential.**"
   ]
  },
  {
   "cell_type": "markdown",
   "id": "da20e333-7c99-4c32-8038-c5f9b37d2b5c",
   "metadata": {},
   "source": [
    "As previously stated, the subgroup of the population who will benefit the most should be Seniors. This is primarily due to the fact that as a Medicare Advantage Plan, the vast majority of your clients are Senior citizens. In addition, we anticipate that children will benefit substantially from a Food Access Program, seeing as the variable with the highest correlation with Low-Access populations, was the number of children with low access to healthy food. \n",
    "- It's also not uncommon for there to be 3-generation-households, in which children and grandchildren live with their Seniors, so a food access program that benefits Seniors is likely to have a trickle-down affect and positively impact their children/grandchildren as well."
   ]
  },
  {
   "cell_type": "markdown",
   "id": "cfbf823a-6b69-4036-86aa-23b8d4018c3d",
   "metadata": {
    "tags": []
   },
   "source": [
    "## 4) What is the projected impact of this program?\n",
    "\n",
    "I anticipate that improving access to quality food will improve overall health in target counties, such as Harris, TX. \n",
    "- I will use Obesity as the primary marker of a County's health, as explained below. \n",
    "\n",
    "- Consider variables from the five_hundred_cities table, which outlines health outcomes such as Obesity, Diabetes, etc. Refer to the following correlation analysis between Obesity and food access\n"
   ]
  },
  {
   "cell_type": "markdown",
   "id": "21f5e44d-7104-4073-bdaa-6acf7392a064",
   "metadata": {},
   "source": [
    "The features that stand out as good targets for being a dependent variable i.e. best measure of a county's health include obesity rates, diabetes, and \"ACCESS2_CrudePrev\", which is the percentage of adults who lack health insurance. For this analysis, let's take a deeper look at Obesity rates, and perform Random Forest feature selection using the entire set of variables from our merged table (Access --Inner Join-- five_hundred_cities) to see what results in a county facing high obesity rates. "
   ]
  },
  {
   "cell_type": "code",
   "execution_count": 276,
   "id": "3024077e-8b8e-4f02-9b6c-3f439697ab06",
   "metadata": {},
   "outputs": [
    {
     "name": "stdout",
     "output_type": "stream",
     "text": [
      "Feature Importance Scores for OBESITY_CrudePrev:\n",
      "              Predictor  Importance\n",
      "76      PHLTH_CrudePrev    0.367433\n",
      "67   CSMOKING_CrudePrev    0.130827\n",
      "72        LPA_CrudePrev    0.116047\n",
      "79  TEETHLOST_CrudePrev    0.074539\n",
      "69   DIABETES_CrudePrev    0.073392\n",
      "..                  ...         ...\n",
      "4                  FIPS    0.000549\n",
      "2                 index    0.000457\n",
      "23      LACCESS_CHILD15    0.000398\n",
      "22      LACCESS_CHILD10    0.000332\n",
      "6         LACCESS_POP15    0.000301\n",
      "\n",
      "[80 rows x 2 columns]\n"
     ]
    }
   ],
   "source": [
    "# Define all numeric independent variables from the merged table (excluding the dependent variable)\n",
    "numeric_columns = merged_df.select_dtypes(include=['float64', 'int64']).columns\n",
    "independent_variables = [col for col in numeric_columns if col != 'OBESITY_CrudePrev']\n",
    "\n",
    "# Drop rows with missing or zero values in independent variables and the dependent variable\n",
    "cleaned_data = merged_df[independent_variables + ['OBESITY_CrudePrev']].replace(0.0, pd.NA).dropna()\n",
    "\n",
    "# Define the features (X) and target variable (y)\n",
    "X_features = cleaned_data[independent_variables]  # Independent variables\n",
    "y_target = cleaned_data['OBESITY_CrudePrev']      # Dependent variable\n",
    "\n",
    "# Train a Random Forest Regressor\n",
    "random_forest_model = RandomForestRegressor(random_state=444)\n",
    "random_forest_model.fit(X_features, y_target)\n",
    "\n",
    "# Compute feature importance scores\n",
    "feature_importance_scores = pd.DataFrame({\n",
    "    'Predictor': X_features.columns,\n",
    "    'Importance': random_forest_model.feature_importances_\n",
    "}).sort_values(by='Importance', ascending=False)\n",
    "\n",
    "# Display the feature importance scores\n",
    "print(\"Feature Importance Scores for OBESITY_CrudePrev:\")\n",
    "print(feature_importance_scores)\n"
   ]
  },
  {
   "cell_type": "markdown",
   "id": "e5315035-8c8c-4bd0-906b-f3390b63a72f",
   "metadata": {},
   "source": [
    "We can see that the Random Forest indicates the features that most strongly predict obesity include:\n",
    "   - 1) PHLTH_CrudePrev: The percent of the County that self-reported as experiencing poor health for 14 or more days in the past month\n",
    "   - 2) CSMOKING_CrudePrev: Percentage of Smokers\n",
    "   - 3) LPA_CrudePrev: High blood cholesterol percentage "
   ]
  },
  {
   "cell_type": "code",
   "execution_count": 284,
   "id": "4db25980-0449-4b23-9158-a21b1e382ec0",
   "metadata": {},
   "outputs": [
    {
     "data": {
      "image/png": "[encoded data removed]",
      "text/plain": [
       "<Figure size 1080x360 with 2 Axes>"
      ]
     },
     "metadata": {
      "needs_background": "light"
     },
     "output_type": "display_data"
    }
   ],
   "source": [
    "# Adjust the correlation matrix for horizontal alignment\n",
    "plt.figure(figsize=(15, 5))\n",
    "sns.heatmap(\n",
    "    obesity_correlation.T,  # Transpose for a horizontal layout\n",
    "    annot=True,\n",
    "    fmt=\".2f\",\n",
    "    cmap=\"coolwarm\",\n",
    "    linewidths=0.5,\n",
    "    cbar_kws={'label': 'Correlation Coefficient'}\n",
    ")\n",
    "plt.title(\"Correlations Between Obesity (OBESITY_CrudePrev) and Health Measures\", fontsize=14)\n",
    "plt.xlabel(\"Variables\", fontsize=12)\n",
    "plt.tight_layout()\n",
    "plt.show()\n"
   ]
  },
  {
   "cell_type": "code",
   "execution_count": null,
   "id": "933d6550-0bb1-4009-8584-d6d41bd482a6",
   "metadata": {},
   "outputs": [],
   "source": []
  },
  {
   "cell_type": "markdown",
   "id": "4e0274cd-bcfd-4dd8-aff6-0a007ea5a7f6",
   "metadata": {
    "tags": []
   },
   "source": [
    "### **Interpretation**\n",
    "- While one might consider using the **percentage of individuals who self-identify as sick** as a robust measure of a county's overall health, I believe that **obesity rates** serve as a more consistent and objective indicator.  \n",
    "- Obesity is a measurable metric that avoids the subjectivity of self-reported data and is strongly tied to chronic health issues.  \n",
    "- To validate this assertion, we can see the graph above which shows a strong correlation between Obesity and:\n",
    "  - Self-assessed unhealthy individuals\n",
    "  - Teeth lost\n",
    "  - Diabetes\n",
    "  - Stroke\n",
    "  - Smoking rates  \n",
    "  - Other chronic health conditions  \n",
    "\n",
    "This indicates that obesity is highly correlated with poor health outcomes, reinforcing its value as a proxy for overall county health.\n",
    "\n",
    "---\n",
    "\n",
    "\n"
   ]
  },
  {
   "cell_type": "markdown",
   "id": "715b855a-45e9-4962-8d9b-4382745ffc4f",
   "metadata": {},
   "source": [
    "Note that although we see that Obesity is highly linearly correlated with other negative health outcomes, you may realize that the linear correlation between LACCESS_POP15 is positive, but only has a coefficient of 0.1. \n",
    " - To further investigate the relationship between access to food and health outcomes, I will perform another round of feature selection, in which \"ACCESS2_CRUDE\" will be used as the dependent variable, and a selection of features from five_hundred_cities will be used to see which variables amongst: Obesity, Cancer, Asthma, Binge_eating, High_blood_pressure, and Arthitis are most closely linked with Low access to healthcare.\n",
    " \n",
    " - **My hypothesis is that this round of feature selection using only variables from one table will yield a much stronger relation bewteen food access and obesity.**\n",
    " \n",
    " A nice feature of Random Forest feature selection is that we can identify an \"importance\" score that is not limited to identifying linear relationships between variables, as polynomial relationships are taken into consideration too. "
   ]
  },
  {
   "cell_type": "code",
   "execution_count": 279,
   "id": "7cf9eb12-17a5-4869-b0f7-bca1c158bb38",
   "metadata": {},
   "outputs": [
    {
     "name": "stdout",
     "output_type": "stream",
     "text": [
      "               Feature  Importance\n",
      "5    OBESITY_CrudePrev    0.464662\n",
      "3     CANCER_CrudePrev    0.162152\n",
      "4    CASTHMA_CrudePrev    0.151286\n",
      "1      BINGE_CrudePrev    0.123652\n",
      "2     BPHIGH_CrudePrev    0.058048\n",
      "0  ARTHRITIS_CrudePrev    0.040201\n"
     ]
    }
   ],
   "source": [
    "# Define the columns to use\n",
    "feature_columns = [\n",
    "    'ARTHRITIS_CrudePrev', 'BINGE_CrudePrev', 'BPHIGH_CrudePrev',\n",
    "    'CANCER_CrudePrev', 'CASTHMA_CrudePrev', 'OBESITY_CrudePrev'\n",
    "]\n",
    "dependent_variable = 'ACCESS2_CrudePrev'\n",
    "\n",
    "# Query to extract the necessary columns from five_hundred_cities\n",
    "query = f\"\"\"\n",
    "SELECT {', '.join(feature_columns)}, {dependent_variable}\n",
    "FROM five_hundred_cities\n",
    "WHERE {dependent_variable} IS NOT NULL\n",
    "\"\"\"\n",
    "\n",
    "# Load the data into a DataFrame\n",
    "\n",
    "data = pd.read_sql_query(query, conn)\n",
    "\n",
    "\n",
    "cleaned_data = data.dropna() # Drop rows with missing values\n",
    "\n",
    "# Define the features (X) and target variable (y)\n",
    "X_features = cleaned_data[feature_columns]\n",
    "y_target = cleaned_data[dependent_variable]\n",
    "\n",
    "# Train a Random Forest Regressor\n",
    "random_forest_model = RandomForestRegressor(random_state=444)\n",
    "random_forest_model.fit(X_features, y_target)\n",
    "\n",
    "# Compute feature importance scores\n",
    "feature_importance_scores = pd.DataFrame({\n",
    "    'Feature': X_features.columns,\n",
    "    'Importance': random_forest_model.feature_importances_\n",
    "}).sort_values(by='Importance', ascending=False)\n",
    "\n",
    "# Display the feature importance scores\n",
    "print(feature_importance_scores)\n"
   ]
  },
  {
   "cell_type": "code",
   "execution_count": 280,
   "id": "79f323b9-80a1-4866-a606-44a8b05a7c9e",
   "metadata": {},
   "outputs": [
    {
     "data": {
      "image/png": "[encoded data removed]",
      "text/plain": [
       "<Figure size 720x432 with 1 Axes>"
      ]
     },
     "metadata": {
      "needs_background": "light"
     },
     "output_type": "display_data"
    }
   ],
   "source": [
    "plt.figure(figsize=(10, 6))\n",
    "sns.barplot(\n",
    "    x='Importance',\n",
    "    y='Feature',\n",
    "    data=feature_importance_scores,\n",
    "    palette='coolwarm'\n",
    ")\n",
    "\n",
    "# Add titles and labels\n",
    "plt.title('Feature Importance for ACCESS2_CrudePrev', fontsize=16)\n",
    "plt.xlabel('Importance', fontsize=12)\n",
    "plt.ylabel('Feature', fontsize=12)\n",
    "plt.tight_layout()\n",
    "\n",
    "# Display the plot\n",
    "plt.show()"
   ]
  },
  {
   "cell_type": "markdown",
   "id": "e30695f5-964f-4e6e-ba2a-2f9cb8cc18fa",
   "metadata": {},
   "source": [
    "Here we can confirm that amongst the selected features from five_hundred_cities, Obesity does in fact have the strongest relationship with the Access to proper food, as indicated by the response variable **ACCESS2_CrudePrev**"
   ]
  },
  {
   "cell_type": "markdown",
   "id": "adaefaea-1d22-4bf0-ad19-251e7af10e9e",
   "metadata": {
    "tags": []
   },
   "source": [
    "# **Summary of Analysis**\n",
    "1. **Identified Locations with Poor Food Access:**  \n",
    "   - Analyzed metrics to pinpoint counties with significant food accessibility challenges.  \n",
    "\n",
    "2. **Explored Contributing Factors:**  \n",
    "   - Examined key variables influencing poor food access, such as socioeconomic and demographic indicators. Examples included areas with high populations of seniors and children facing food access issues. \n",
    "\n",
    "3. **Connected Food Access to Health Outcomes:**  \n",
    "   - Established the relationship between limited food access and health outcomes like obesity, diabetes, and high blood pressure.  \n",
    "\n",
    "4. **Analyzed Obesity and Related Variables:**  \n",
    "   - Identified additional factors contributing to obesity and examined how they reflect broader population health.  \n",
    "\n",
    "---\n",
    "\n",
    "### **Answered the Project's Key objecties**\n",
    "\n",
    "\n",
    "1. **Where should we deploy a food access program?**  \n",
    "   - Harris County, Texas. \n",
    "\n",
    "2. **How many people will be included?**  \n",
    "   - 30,000 Individuals \n",
    "\n",
    "3. **Which subgroup of the population might benefit the most?**  \n",
    "   - Seniors and children\n",
    "\n",
    "4. **What is the projected impact of this program?**  \n",
    "   - An improvement in overall health, measured as a reduction in Obesity rates. This was determined as the \"best\"/most robust model for a County's health, as a reduction in Obesity is highly correlated with improvements in other health metrics such as high blood pressure, diabetes, and self-assessment of individual health. "
   ]
  },
  {
   "cell_type": "code",
   "execution_count": null,
   "id": "3c2632f5-c00a-4d0f-a19f-3cfe202c6773",
   "metadata": {},
   "outputs": [],
   "source": []
  }
 ],
 "metadata": {
  "kernelspec": {
   "display_name": "Python 3 (ipykernel)",
   "language": "python",
   "name": "python3"
  },
  "language_info": {
   "codemirror_mode": {
    "name": "ipython",
    "version": 3
   },
   "file_extension": ".py",
   "mimetype": "text/x-python",
   "name": "python",
   "nbconvert_exporter": "python",
   "pygments_lexer": "ipython3",
   "version": "3.9.12"
  }
 },
 "nbformat": 4,
 "nbformat_minor": 5
}
